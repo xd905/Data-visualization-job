{
 "cells": [
  {
   "cell_type": "markdown",
   "metadata": {},
   "source": [
    "## 任务开始"
   ]
  },
  {
   "cell_type": "code",
   "execution_count": 1,
   "metadata": {},
   "outputs": [
    {
     "data": {
      "text/plain": [
       "WindowsPath('D:/金砖比赛训练资料/练习题/(学院名称)_(姓名)')"
      ]
     },
     "execution_count": 1,
     "metadata": {},
     "output_type": "execute_result"
    }
   ],
   "source": [
    "# 完成使用库的导入\n",
    "from pathlib import Path\n",
    "import numpy as np\n",
    "import pandas as pd\n",
    "import matplotlib.pyplot as plt\n",
    "import seaborn as sns\n",
    "Path.cwd()"
   ]
  },
  {
   "cell_type": "code",
   "execution_count": 2,
   "metadata": {},
   "outputs": [],
   "source": [
    "%matplotlib inline\n",
    "%config InlineBackend.figure_format = \"retina\"\n",
    "%config IPCompleter.greedy = True\n",
    "%config IPCompleter.use_jedi = True\n",
    "plt.rcParams['font.sans-serif'] = ['SimHei']\n",
    "pd.options.display.max_colwidth = 100\n",
    "plt.rcParams[\"figure.figsize\"] = (12,8)"
   ]
  },
  {
   "cell_type": "code",
   "execution_count": 3,
   "metadata": {},
   "outputs": [
    {
     "name": "stdout",
     "output_type": "stream",
     "text": [
      " 驱动器 D 中的卷是 Elements\n",
      " 卷的序列号是 1A3B-705F\n",
      "\n",
      " D:\\金砖比赛训练资料\\练习题\\(学院名称)_(姓名) 的目录\n",
      "\n",
      "2020/09/01  19:22    <DIR>          .\n",
      "2020/09/01  19:22    <DIR>          ..\n",
      "2020/08/29  15:57    <DIR>          .ipynb_checkpoints\n",
      "2018/08/16  10:37        21,540,942 Artificial_Intelligence_data.csv\n",
      "2020/09/01  16:51             4,800 北京各区岗位需求量.html\n",
      "2020/08/29  15:52             4,394 数据分析任务书.ipynb\n",
      "2020/09/01  19:22            62,035 数据分析任务书2.ipynb\n",
      "               4 个文件     21,612,171 字节\n",
      "               3 个目录 242,191,171,584 可用字节\n"
     ]
    }
   ],
   "source": [
    "!dir ..\\(学院名称)_(姓名)\\"
   ]
  },
  {
   "cell_type": "markdown",
   "metadata": {},
   "source": [
    "## 任务1：数据导入与查看(共计：10分)\n",
    "### Step1：读取csv格式的Artificial_Intelligence_data(4分)"
   ]
  },
  {
   "cell_type": "code",
   "execution_count": 4,
   "metadata": {},
   "outputs": [],
   "source": [
    "ai_data=pd.read_csv('../(学院名称)_(姓名)/Artificial_Intelligence_data.csv')"
   ]
  },
  {
   "cell_type": "markdown",
   "metadata": {},
   "source": [
    "### Step2：ai_data查看前5行数据(3分)"
   ]
  },
  {
   "cell_type": "code",
   "execution_count": 5,
   "metadata": {},
   "outputs": [
    {
     "data": {
      "text/html": [
       "<div>\n",
       "<style scoped>\n",
       "    .dataframe tbody tr th:only-of-type {\n",
       "        vertical-align: middle;\n",
       "    }\n",
       "\n",
       "    .dataframe tbody tr th {\n",
       "        vertical-align: top;\n",
       "    }\n",
       "\n",
       "    .dataframe thead th {\n",
       "        text-align: right;\n",
       "    }\n",
       "</style>\n",
       "<table border=\"1\" class=\"dataframe\">\n",
       "  <thead>\n",
       "    <tr style=\"text-align: right;\">\n",
       "      <th></th>\n",
       "      <th>company</th>\n",
       "      <th>jobRequirement</th>\n",
       "      <th>salary</th>\n",
       "      <th>tags</th>\n",
       "      <th>title</th>\n",
       "    </tr>\n",
       "  </thead>\n",
       "  <tbody>\n",
       "    <tr>\n",
       "      <th>0</th>\n",
       "      <td>北京捷通华声科技股份有限公司</td>\n",
       "      <td>职位描述：,      1.负责智能机器人知识库的建设，保证机器人智能问答的准确率；,      2.收集客户的产品与服务知识库等资料，对资料进行整合与编辑；,      3.负责知识...</td>\n",
       "      <td>0.7-1万/月</td>\n",
       "      <td>北京  |  无工作经验  |  本科  |  招3人  |  08-14发布</td>\n",
       "      <td>人工智能训练工程师</td>\n",
       "    </tr>\n",
       "    <tr>\n",
       "      <th>1</th>\n",
       "      <td>NaN</td>\n",
       "      <td>NaN</td>\n",
       "      <td>NaN</td>\n",
       "      <td>NaN</td>\n",
       "      <td>NaN</td>\n",
       "    </tr>\n",
       "    <tr>\n",
       "      <th>2</th>\n",
       "      <td>寰宇优才教育科技（北京）有限公司</td>\n",
       "      <td>【岗位方向】：,1、 Java+大数据软件开发工程师实习生,2、 人工智能+Python开发工程师实习生,【任职要求】：,1、大专及以上学历，计算机（网络)、电子信息、软件工程、（电气）自动化...</td>\n",
       "      <td>6-8千/月</td>\n",
       "      <td>北京-朝阳区  |  无工作经验  |  招16人  |  08-14发布</td>\n",
       "      <td>Java+人工智能实习工程师</td>\n",
       "    </tr>\n",
       "    <tr>\n",
       "      <th>3</th>\n",
       "      <td>广州市润东信息科技有限公司</td>\n",
       "      <td>1. 研究机器学习、深度学习等领域的前沿技术并结合业务场景解决实际问题；,2. 通过对数据的敏锐洞察，深入挖掘产品潜在价值和需求，进而提供更有价值的产品和服务；,3. 通过技术创新推动产品成长...</td>\n",
       "      <td>1.5-2万/月</td>\n",
       "      <td>广州-番禺区  |  3-4年经验  |  本科  |  招1人  |  08-14发布</td>\n",
       "      <td>人工智能工程师</td>\n",
       "    </tr>\n",
       "    <tr>\n",
       "      <th>4</th>\n",
       "      <td>江苏厚学网信息技术股份有限公司</td>\n",
       "      <td>岗位职责:,1. 开发软电话模块，完成与终端呼叫设备的对接；,2. 负责模块的需求分析，代码设计及实现。,任职要求：,1、专科以上学历；,2、熟悉C++开发;,3、熟悉Linux系统；,4、有...</td>\n",
       "      <td>10-20万/年</td>\n",
       "      <td>南京-秦淮区  |  3-4年经验  |  大专  |  招4人  |  08-14发布</td>\n",
       "      <td>C++高级开发工程师(人工智能方向)</td>\n",
       "    </tr>\n",
       "  </tbody>\n",
       "</table>\n",
       "</div>"
      ],
      "text/plain": [
       "            company  \\\n",
       "0    北京捷通华声科技股份有限公司   \n",
       "1               NaN   \n",
       "2  寰宇优才教育科技（北京）有限公司   \n",
       "3     广州市润东信息科技有限公司   \n",
       "4   江苏厚学网信息技术股份有限公司   \n",
       "\n",
       "                                                                                        jobRequirement  \\\n",
       "0      职位描述：,      1.负责智能机器人知识库的建设，保证机器人智能问答的准确率；,      2.收集客户的产品与服务知识库等资料，对资料进行整合与编辑；,      3.负责知识...   \n",
       "1                                                                                                  NaN   \n",
       "2  【岗位方向】：,1、 Java+大数据软件开发工程师实习生,2、 人工智能+Python开发工程师实习生,【任职要求】：,1、大专及以上学历，计算机（网络)、电子信息、软件工程、（电气）自动化...   \n",
       "3  1. 研究机器学习、深度学习等领域的前沿技术并结合业务场景解决实际问题；,2. 通过对数据的敏锐洞察，深入挖掘产品潜在价值和需求，进而提供更有价值的产品和服务；,3. 通过技术创新推动产品成长...   \n",
       "4  岗位职责:,1. 开发软电话模块，完成与终端呼叫设备的对接；,2. 负责模块的需求分析，代码设计及实现。,任职要求：,1、专科以上学历；,2、熟悉C++开发;,3、熟悉Linux系统；,4、有...   \n",
       "\n",
       "     salary                                          tags               title  \n",
       "0  0.7-1万/月       北京  |  无工作经验  |  本科  |  招3人  |  08-14发布           人工智能训练工程师  \n",
       "1       NaN                                           NaN                 NaN  \n",
       "2    6-8千/月         北京-朝阳区  |  无工作经验  |  招16人  |  08-14发布      Java+人工智能实习工程师  \n",
       "3  1.5-2万/月  广州-番禺区  |  3-4年经验  |  本科  |  招1人  |  08-14发布             人工智能工程师  \n",
       "4  10-20万/年  南京-秦淮区  |  3-4年经验  |  大专  |  招4人  |  08-14发布  C++高级开发工程师(人工智能方向)  "
      ]
     },
     "execution_count": 5,
     "metadata": {},
     "output_type": "execute_result"
    }
   ],
   "source": [
    "ai_data.head(5)"
   ]
  },
  {
   "cell_type": "markdown",
   "metadata": {},
   "source": [
    "### Step3：查看ai_data数据的行列数(3分)"
   ]
  },
  {
   "cell_type": "code",
   "execution_count": 6,
   "metadata": {},
   "outputs": [
    {
     "data": {
      "text/plain": [
       "(14383, 5)"
      ]
     },
     "execution_count": 6,
     "metadata": {},
     "output_type": "execute_result"
    }
   ],
   "source": [
    "ai_data.shape"
   ]
  },
  {
   "cell_type": "markdown",
   "metadata": {},
   "source": [
    "## 任务2：缺失数据清洗(共计：10分)\n",
    "### Step1：输出ai_data数据在缺失数据清洗处理前的数量(2分)"
   ]
  },
  {
   "cell_type": "code",
   "execution_count": 7,
   "metadata": {},
   "outputs": [
    {
     "data": {
      "text/plain": [
       "'删除全部缺失数据行前共计有：14383行'"
      ]
     },
     "execution_count": 7,
     "metadata": {},
     "output_type": "execute_result"
    }
   ],
   "source": [
    "sum=ai_data.shape[0]\n",
    "'删除全部缺失数据行前共计有：{}行'.format(sum)"
   ]
  },
  {
   "cell_type": "markdown",
   "metadata": {},
   "source": [
    "### Step2：处理ai_data的缺失数据并将原数据进行覆盖(6分)"
   ]
  },
  {
   "cell_type": "code",
   "execution_count": 8,
   "metadata": {},
   "outputs": [],
   "source": [
    "ai_data=ai_data.fillna(0)"
   ]
  },
  {
   "cell_type": "markdown",
   "metadata": {},
   "source": [
    "### Step3：输出ai_data数据在缺失数据清洗处理后的数量(2分)"
   ]
  },
  {
   "cell_type": "code",
   "execution_count": 9,
   "metadata": {},
   "outputs": [
    {
     "data": {
      "text/plain": [
       "'删除全部缺失数据行后共计有：14383行'"
      ]
     },
     "execution_count": 9,
     "metadata": {},
     "output_type": "execute_result"
    }
   ],
   "source": [
    "sum=ai_data.shape[0]\n",
    "'删除全部缺失数据行后共计有：{}行'.format(sum)"
   ]
  },
  {
   "cell_type": "markdown",
   "metadata": {},
   "source": [
    "## 任务3：数据处理与统计(共计：20分)\n",
    "### Step1：将ai_data数据中工作地点进行处理，得到具体的城市数据(10分)"
   ]
  },
  {
   "cell_type": "code",
   "execution_count": 10,
   "metadata": {},
   "outputs": [
    {
     "data": {
      "text/plain": [
       "0         北京\n",
       "1        NaN\n",
       "2         北京\n",
       "3         广州\n",
       "4         南京\n",
       "        ... \n",
       "14378     深圳\n",
       "14379     西安\n",
       "14380    NaN\n",
       "14381    NaN\n",
       "14382     上海\n",
       "Name: tags, Length: 14383, dtype: object"
      ]
     },
     "execution_count": 10,
     "metadata": {},
     "output_type": "execute_result"
    }
   ],
   "source": [
    "detailed_address = ai_data['tags'].str.split(\"|\").str.get(0)\n",
    "city = detailed_address.str.split('-').str.get(0)\n",
    "# df.columns.str.strip().str.lower().str.replace(' ', '_')\n",
    "city=city.str.strip()\n",
    "city"
   ]
  },
  {
   "cell_type": "markdown",
   "metadata": {},
   "source": [
    "### Step2：统计招聘在前10的城市的岗位需求数量(10分)"
   ]
  },
  {
   "cell_type": "code",
   "execution_count": 11,
   "metadata": {},
   "outputs": [
    {
     "data": {
      "text/plain": [
       "上海     3027\n",
       "北京     1835\n",
       "深圳     1647\n",
       "广州     1259\n",
       "杭州     1158\n",
       "成都      553\n",
       "武汉      545\n",
       "南京      448\n",
       "苏州      406\n",
       "石家庄     290\n",
       "Name: tags, dtype: int64"
      ]
     },
     "execution_count": 11,
     "metadata": {},
     "output_type": "execute_result"
    }
   ],
   "source": [
    "num=city.value_counts().sort_values(ascending=False)[:10]\n",
    "num"
   ]
  },
  {
   "cell_type": "markdown",
   "metadata": {},
   "source": [
    "## 任务4：数据可视化-柱形图(共计：10分)\n",
    "### Step1：制作招聘排名前10的城市的岗位需求数量，图像类型与下图基本一致(10分)"
   ]
  },
  {
   "cell_type": "code",
   "execution_count": 12,
   "metadata": {},
   "outputs": [
    {
     "data": {
      "text/html": [
       "<div>\n",
       "<style scoped>\n",
       "    .dataframe tbody tr th:only-of-type {\n",
       "        vertical-align: middle;\n",
       "    }\n",
       "\n",
       "    .dataframe tbody tr th {\n",
       "        vertical-align: top;\n",
       "    }\n",
       "\n",
       "    .dataframe thead th {\n",
       "        text-align: right;\n",
       "    }\n",
       "</style>\n",
       "<table border=\"1\" class=\"dataframe\">\n",
       "  <thead>\n",
       "    <tr style=\"text-align: right;\">\n",
       "      <th></th>\n",
       "      <th>city</th>\n",
       "    </tr>\n",
       "  </thead>\n",
       "  <tbody>\n",
       "    <tr>\n",
       "      <th>0</th>\n",
       "      <td>北京</td>\n",
       "    </tr>\n",
       "    <tr>\n",
       "      <th>1</th>\n",
       "      <td>NaN</td>\n",
       "    </tr>\n",
       "    <tr>\n",
       "      <th>2</th>\n",
       "      <td>北京</td>\n",
       "    </tr>\n",
       "    <tr>\n",
       "      <th>3</th>\n",
       "      <td>广州</td>\n",
       "    </tr>\n",
       "    <tr>\n",
       "      <th>4</th>\n",
       "      <td>南京</td>\n",
       "    </tr>\n",
       "    <tr>\n",
       "      <th>...</th>\n",
       "      <td>...</td>\n",
       "    </tr>\n",
       "    <tr>\n",
       "      <th>14378</th>\n",
       "      <td>深圳</td>\n",
       "    </tr>\n",
       "    <tr>\n",
       "      <th>14379</th>\n",
       "      <td>西安</td>\n",
       "    </tr>\n",
       "    <tr>\n",
       "      <th>14380</th>\n",
       "      <td>NaN</td>\n",
       "    </tr>\n",
       "    <tr>\n",
       "      <th>14381</th>\n",
       "      <td>NaN</td>\n",
       "    </tr>\n",
       "    <tr>\n",
       "      <th>14382</th>\n",
       "      <td>上海</td>\n",
       "    </tr>\n",
       "  </tbody>\n",
       "</table>\n",
       "<p>14383 rows × 1 columns</p>\n",
       "</div>"
      ],
      "text/plain": [
       "      city\n",
       "0       北京\n",
       "1      NaN\n",
       "2       北京\n",
       "3       广州\n",
       "4       南京\n",
       "...    ...\n",
       "14378   深圳\n",
       "14379   西安\n",
       "14380  NaN\n",
       "14381  NaN\n",
       "14382   上海\n",
       "\n",
       "[14383 rows x 1 columns]"
      ]
     },
     "execution_count": 12,
     "metadata": {},
     "output_type": "execute_result"
    }
   ],
   "source": [
    "city1=pd.DataFrame({'city':city.values},index=city.index)\n",
    "city1"
   ]
  },
  {
   "cell_type": "code",
   "execution_count": 13,
   "metadata": {},
   "outputs": [
    {
     "data": {
      "text/plain": [
       "Text(0.5, 1.0, '岗位需求排名前10的城市')"
      ]
     },
     "execution_count": 13,
     "metadata": {},
     "output_type": "execute_result"
    },
    {
     "data": {
      "image/png": "[encoded data removed]",
      "text/plain": [
       "<Figure size 864x504 with 1 Axes>"
      ]
     },
     "metadata": {
      "image/png": {
       "height": 438,
       "width": 722
      },
      "needs_background": "light"
     },
     "output_type": "display_data"
    }
   ],
   "source": [
    "plt.figure(figsize=(12,7))\n",
    "order=city1['city'].value_counts().sort_values(ascending=False)[:10].index\n",
    "sns.countplot(data=city1,x=city1['city'],order=order)\n",
    "plt.xlabel(' ')\n",
    "plt.ylabel(' ')\n",
    "plt.title('岗位需求排名前10的城市')"
   ]
  },
  {
   "cell_type": "markdown",
   "metadata": {},
   "source": [
    "## 任务5：深度数据处理筛选与统计(30分)\n",
    "### Step1：处理detailed_address数据中具体的区域，如果没有区域使用缺失数据NaN表示(12分)"
   ]
  },
  {
   "cell_type": "code",
   "execution_count": 14,
   "metadata": {},
   "outputs": [
    {
     "data": {
      "text/plain": [
       "0            北京  \n",
       "1             NaN\n",
       "2        北京-朝阳区  \n",
       "3        广州-番禺区  \n",
       "4        南京-秦淮区  \n",
       "           ...   \n",
       "14378    深圳-南山区  \n",
       "14379        西安  \n",
       "14380         NaN\n",
       "14381         NaN\n",
       "14382    上海-杨浦区  \n",
       "Name: tags, Length: 14383, dtype: object"
      ]
     },
     "execution_count": 14,
     "metadata": {},
     "output_type": "execute_result"
    }
   ],
   "source": [
    "detailed_address"
   ]
  },
  {
   "cell_type": "code",
   "execution_count": 15,
   "metadata": {},
   "outputs": [
    {
     "data": {
      "text/plain": [
       "0          NaN\n",
       "1          NaN\n",
       "2        朝阳区  \n",
       "3        番禺区  \n",
       "4        秦淮区  \n",
       "         ...  \n",
       "14378    南山区  \n",
       "14379      NaN\n",
       "14380      NaN\n",
       "14381      NaN\n",
       "14382    杨浦区  \n",
       "Name: tags, Length: 14383, dtype: object"
      ]
     },
     "execution_count": 15,
     "metadata": {},
     "output_type": "execute_result"
    }
   ],
   "source": [
    "distrct=detailed_address.str.split('-').str.get(1)\n",
    "distrct"
   ]
  },
  {
   "cell_type": "markdown",
   "metadata": {},
   "source": [
    "### Step2：统计城市为北京的所有区域的数量，注意：移除NaN的缺失数据(18分)"
   ]
  },
  {
   "cell_type": "code",
   "execution_count": 16,
   "metadata": {},
   "outputs": [
    {
     "data": {
      "text/html": [
       "<div>\n",
       "<style scoped>\n",
       "    .dataframe tbody tr th:only-of-type {\n",
       "        vertical-align: middle;\n",
       "    }\n",
       "\n",
       "    .dataframe tbody tr th {\n",
       "        vertical-align: top;\n",
       "    }\n",
       "\n",
       "    .dataframe thead th {\n",
       "        text-align: right;\n",
       "    }\n",
       "</style>\n",
       "<table border=\"1\" class=\"dataframe\">\n",
       "  <thead>\n",
       "    <tr style=\"text-align: right;\">\n",
       "      <th></th>\n",
       "      <th>city</th>\n",
       "      <th>distrct</th>\n",
       "    </tr>\n",
       "  </thead>\n",
       "  <tbody>\n",
       "    <tr>\n",
       "      <th>0</th>\n",
       "      <td>北京</td>\n",
       "      <td>NaN</td>\n",
       "    </tr>\n",
       "    <tr>\n",
       "      <th>1</th>\n",
       "      <td>NaN</td>\n",
       "      <td>NaN</td>\n",
       "    </tr>\n",
       "    <tr>\n",
       "      <th>2</th>\n",
       "      <td>北京</td>\n",
       "      <td>朝阳区</td>\n",
       "    </tr>\n",
       "    <tr>\n",
       "      <th>3</th>\n",
       "      <td>广州</td>\n",
       "      <td>番禺区</td>\n",
       "    </tr>\n",
       "    <tr>\n",
       "      <th>4</th>\n",
       "      <td>南京</td>\n",
       "      <td>秦淮区</td>\n",
       "    </tr>\n",
       "    <tr>\n",
       "      <th>...</th>\n",
       "      <td>...</td>\n",
       "      <td>...</td>\n",
       "    </tr>\n",
       "    <tr>\n",
       "      <th>14378</th>\n",
       "      <td>深圳</td>\n",
       "      <td>南山区</td>\n",
       "    </tr>\n",
       "    <tr>\n",
       "      <th>14379</th>\n",
       "      <td>西安</td>\n",
       "      <td>NaN</td>\n",
       "    </tr>\n",
       "    <tr>\n",
       "      <th>14380</th>\n",
       "      <td>NaN</td>\n",
       "      <td>NaN</td>\n",
       "    </tr>\n",
       "    <tr>\n",
       "      <th>14381</th>\n",
       "      <td>NaN</td>\n",
       "      <td>NaN</td>\n",
       "    </tr>\n",
       "    <tr>\n",
       "      <th>14382</th>\n",
       "      <td>上海</td>\n",
       "      <td>杨浦区</td>\n",
       "    </tr>\n",
       "  </tbody>\n",
       "</table>\n",
       "<p>14383 rows × 2 columns</p>\n",
       "</div>"
      ],
      "text/plain": [
       "      city distrct\n",
       "0       北京     NaN\n",
       "1      NaN     NaN\n",
       "2       北京   朝阳区  \n",
       "3       广州   番禺区  \n",
       "4       南京   秦淮区  \n",
       "...    ...     ...\n",
       "14378   深圳   南山区  \n",
       "14379   西安     NaN\n",
       "14380  NaN     NaN\n",
       "14381  NaN     NaN\n",
       "14382   上海   杨浦区  \n",
       "\n",
       "[14383 rows x 2 columns]"
      ]
     },
     "execution_count": 16,
     "metadata": {},
     "output_type": "execute_result"
    }
   ],
   "source": [
    "city2=pd.DataFrame({'city':city.values,'distrct':distrct},index=city.index)\n",
    "city2"
   ]
  },
  {
   "cell_type": "code",
   "execution_count": 17,
   "metadata": {},
   "outputs": [
    {
     "data": {
      "text/html": [
       "<div>\n",
       "<style scoped>\n",
       "    .dataframe tbody tr th:only-of-type {\n",
       "        vertical-align: middle;\n",
       "    }\n",
       "\n",
       "    .dataframe tbody tr th {\n",
       "        vertical-align: top;\n",
       "    }\n",
       "\n",
       "    .dataframe thead th {\n",
       "        text-align: right;\n",
       "    }\n",
       "</style>\n",
       "<table border=\"1\" class=\"dataframe\">\n",
       "  <thead>\n",
       "    <tr style=\"text-align: right;\">\n",
       "      <th></th>\n",
       "      <th>city</th>\n",
       "      <th>distrct</th>\n",
       "    </tr>\n",
       "  </thead>\n",
       "  <tbody>\n",
       "    <tr>\n",
       "      <th>2</th>\n",
       "      <td>北京</td>\n",
       "      <td>朝阳区</td>\n",
       "    </tr>\n",
       "    <tr>\n",
       "      <th>3</th>\n",
       "      <td>广州</td>\n",
       "      <td>番禺区</td>\n",
       "    </tr>\n",
       "    <tr>\n",
       "      <th>4</th>\n",
       "      <td>南京</td>\n",
       "      <td>秦淮区</td>\n",
       "    </tr>\n",
       "    <tr>\n",
       "      <th>6</th>\n",
       "      <td>上海</td>\n",
       "      <td>浦东新区</td>\n",
       "    </tr>\n",
       "    <tr>\n",
       "      <th>9</th>\n",
       "      <td>上海</td>\n",
       "      <td>静安区</td>\n",
       "    </tr>\n",
       "    <tr>\n",
       "      <th>...</th>\n",
       "      <td>...</td>\n",
       "      <td>...</td>\n",
       "    </tr>\n",
       "    <tr>\n",
       "      <th>14374</th>\n",
       "      <td>上海</td>\n",
       "      <td>普陀区</td>\n",
       "    </tr>\n",
       "    <tr>\n",
       "      <th>14375</th>\n",
       "      <td>西安</td>\n",
       "      <td>莲湖区</td>\n",
       "    </tr>\n",
       "    <tr>\n",
       "      <th>14377</th>\n",
       "      <td>青岛</td>\n",
       "      <td>城阳区</td>\n",
       "    </tr>\n",
       "    <tr>\n",
       "      <th>14378</th>\n",
       "      <td>深圳</td>\n",
       "      <td>南山区</td>\n",
       "    </tr>\n",
       "    <tr>\n",
       "      <th>14382</th>\n",
       "      <td>上海</td>\n",
       "      <td>杨浦区</td>\n",
       "    </tr>\n",
       "  </tbody>\n",
       "</table>\n",
       "<p>9368 rows × 2 columns</p>\n",
       "</div>"
      ],
      "text/plain": [
       "      city distrct\n",
       "2       北京   朝阳区  \n",
       "3       广州   番禺区  \n",
       "4       南京   秦淮区  \n",
       "6       上海  浦东新区  \n",
       "9       上海   静安区  \n",
       "...    ...     ...\n",
       "14374   上海   普陀区  \n",
       "14375   西安   莲湖区  \n",
       "14377   青岛   城阳区  \n",
       "14378   深圳   南山区  \n",
       "14382   上海   杨浦区  \n",
       "\n",
       "[9368 rows x 2 columns]"
      ]
     },
     "execution_count": 17,
     "metadata": {},
     "output_type": "execute_result"
    }
   ],
   "source": [
    "city2=city2.dropna()\n",
    "city2"
   ]
  },
  {
   "cell_type": "code",
   "execution_count": 18,
   "metadata": {},
   "outputs": [
    {
     "data": {
      "text/plain": [
       "海淀区       610\n",
       "朝阳区       333\n",
       "房山区        91\n",
       "昌平区        81\n",
       "丰台区        48\n",
       "西城区        40\n",
       "大兴区        34\n",
       "东城区        23\n",
       "石景山区       16\n",
       "通州区        10\n",
       "顺义区         3\n",
       "Name: distrct, dtype: int64"
      ]
     },
     "execution_count": 18,
     "metadata": {},
     "output_type": "execute_result"
    }
   ],
   "source": [
    "beijing_district=city2[city2.city=='北京']\n",
    "bd_count=beijing_district['distrct'].value_counts()\n",
    "bd_count"
   ]
  },
  {
   "cell_type": "markdown",
   "metadata": {},
   "source": [
    "## 任务6：数据可视化-城市地图(共计：20分)\n",
    "### Step1：制作统计北京各区岗位需求量的地图，图像类型与下图基本一致(20分)"
   ]
  },
  {
   "cell_type": "code",
   "execution_count": 44,
   "metadata": {},
   "outputs": [
    {
     "data": {
      "text/plain": [
       "['海淀区', '朝阳区', '房山区', '昌平区', '丰台区', '西城区', '大兴区', '东城区', '石景山区', '通州区', '顺义区']"
      ]
     },
     "execution_count": 44,
     "metadata": {},
     "output_type": "execute_result"
    }
   ],
   "source": [
    "cityname1=list(bd_count.index.str.strip())\n",
    "cityname1"
   ]
  },
  {
   "cell_type": "code",
   "execution_count": 43,
   "metadata": {},
   "outputs": [
    {
     "name": "stderr",
     "output_type": "stream",
     "text": [
      "C:\\Users\\xiaomi\\.conda\\envs\\aizoo\\lib\\site-packages\\pyecharts\\charts\\chart.py:14: PendingDeprecationWarning: pyecharts 所有图表类型将在 v1.9.0 版本开始强制使用 ChartItem 进行数据项配置 :)\n",
      "  super().__init__(init_opts=init_opts)\n"
     ]
    },
    {
     "data": {
      "text/html": [
       "\n",
       "<script>\n",
       "    require.config({\n",
       "        paths: {\n",
       "            'echarts':'https://assets.pyecharts.org/assets/echarts.min', '北京':'https://assets.pyecharts.org/assets/maps/beijing'\n",
       "        }\n",
       "    });\n",
       "</script>\n",
       "\n",
       "        <div id=\"410fca2b0abb4efa8d94764cefb6f309\" style=\"width:900px; height:800px;\"></div>\n",
       "\n",
       "<script>\n",
       "        require(['echarts', '北京'], function(echarts) {\n",
       "                var chart_410fca2b0abb4efa8d94764cefb6f309 = echarts.init(\n",
       "                    document.getElementById('410fca2b0abb4efa8d94764cefb6f309'), 'white', {renderer: 'canvas'});\n",
       "                var option_410fca2b0abb4efa8d94764cefb6f309 = {\n",
       "    \"animation\": true,\n",
       "    \"animationThreshold\": 2000,\n",
       "    \"animationDuration\": 1000,\n",
       "    \"animationEasing\": \"cubicOut\",\n",
       "    \"animationDelay\": 0,\n",
       "    \"animationDurationUpdate\": 300,\n",
       "    \"animationEasingUpdate\": \"cubicOut\",\n",
       "    \"animationDelayUpdate\": 0,\n",
       "    \"color\": [\n",
       "        \"#c23531\",\n",
       "        \"#2f4554\",\n",
       "        \"#61a0a8\",\n",
       "        \"#d48265\",\n",
       "        \"#749f83\",\n",
       "        \"#ca8622\",\n",
       "        \"#bda29a\",\n",
       "        \"#6e7074\",\n",
       "        \"#546570\",\n",
       "        \"#c4ccd3\",\n",
       "        \"#f05b72\",\n",
       "        \"#ef5b9c\",\n",
       "        \"#f47920\",\n",
       "        \"#905a3d\",\n",
       "        \"#fab27b\",\n",
       "        \"#2a5caa\",\n",
       "        \"#444693\",\n",
       "        \"#726930\",\n",
       "        \"#b2d235\",\n",
       "        \"#6d8346\",\n",
       "        \"#ac6767\",\n",
       "        \"#1d953f\",\n",
       "        \"#6950a1\",\n",
       "        \"#918597\"\n",
       "    ],\n",
       "    \"series\": [\n",
       "        {\n",
       "            \"type\": \"map\",\n",
       "            \"label\": {\n",
       "                \"show\": true,\n",
       "                \"position\": \"top\",\n",
       "                \"margin\": 8\n",
       "            },\n",
       "            \"mapType\": \"\\u5317\\u4eac\",\n",
       "            \"data\": [\n",
       "                {\n",
       "                    \"name\": \"\\u6d77\\u6dc0\\u533a\",\n",
       "                    \"value\": 610\n",
       "                },\n",
       "                {\n",
       "                    \"name\": \"\\u671d\\u9633\\u533a\",\n",
       "                    \"value\": 333\n",
       "                },\n",
       "                {\n",
       "                    \"name\": \"\\u623f\\u5c71\\u533a\",\n",
       "                    \"value\": 91\n",
       "                },\n",
       "                {\n",
       "                    \"name\": \"\\u660c\\u5e73\\u533a\",\n",
       "                    \"value\": 81\n",
       "                },\n",
       "                {\n",
       "                    \"name\": \"\\u4e30\\u53f0\\u533a\",\n",
       "                    \"value\": 48\n",
       "                },\n",
       "                {\n",
       "                    \"name\": \"\\u897f\\u57ce\\u533a\",\n",
       "                    \"value\": 40\n",
       "                },\n",
       "                {\n",
       "                    \"name\": \"\\u5927\\u5174\\u533a\",\n",
       "                    \"value\": 34\n",
       "                },\n",
       "                {\n",
       "                    \"name\": \"\\u4e1c\\u57ce\\u533a\",\n",
       "                    \"value\": 23\n",
       "                },\n",
       "                {\n",
       "                    \"name\": \"\\u77f3\\u666f\\u5c71\\u533a\",\n",
       "                    \"value\": 16\n",
       "                },\n",
       "                {\n",
       "                    \"name\": \"\\u901a\\u5dde\\u533a\",\n",
       "                    \"value\": 10\n",
       "                },\n",
       "                {\n",
       "                    \"name\": \"\\u987a\\u4e49\\u533a\",\n",
       "                    \"value\": 3\n",
       "                }\n",
       "            ],\n",
       "            \"roam\": true,\n",
       "            \"zoom\": 1,\n",
       "            \"showLegendSymbol\": true,\n",
       "            \"emphasis\": {}\n",
       "        }\n",
       "    ],\n",
       "    \"legend\": [\n",
       "        {\n",
       "            \"data\": [\n",
       "                \"\"\n",
       "            ],\n",
       "            \"selected\": {\n",
       "                \"\": true\n",
       "            },\n",
       "            \"show\": true,\n",
       "            \"padding\": 5,\n",
       "            \"itemGap\": 10,\n",
       "            \"itemWidth\": 25,\n",
       "            \"itemHeight\": 14\n",
       "        }\n",
       "    ],\n",
       "    \"tooltip\": {\n",
       "        \"show\": true,\n",
       "        \"trigger\": \"item\",\n",
       "        \"triggerOn\": \"mousemove|click\",\n",
       "        \"axisPointer\": {\n",
       "            \"type\": \"line\"\n",
       "        },\n",
       "        \"showContent\": true,\n",
       "        \"alwaysShowContent\": false,\n",
       "        \"showDelay\": 0,\n",
       "        \"hideDelay\": 100,\n",
       "        \"textStyle\": {\n",
       "            \"fontSize\": 14\n",
       "        },\n",
       "        \"borderWidth\": 0,\n",
       "        \"padding\": 5\n",
       "    },\n",
       "    \"title\": [\n",
       "        {\n",
       "            \"text\": \"\\u5317\\u4eac\\u5404\\u5c97\\u4f4d\\u9700\\u6c42\\u91cf\",\n",
       "            \"left\": \"center\",\n",
       "            \"padding\": 5,\n",
       "            \"itemGap\": 10\n",
       "        }\n",
       "    ],\n",
       "    \"visualMap\": {\n",
       "        \"show\": true,\n",
       "        \"type\": \"continuous\",\n",
       "        \"min\": 3,\n",
       "        \"max\": 610,\n",
       "        \"inRange\": {\n",
       "            \"color\": [\n",
       "                \"#50a3ba\",\n",
       "                \"#eac763\",\n",
       "                \"#d94e5d\"\n",
       "            ]\n",
       "        },\n",
       "        \"calculable\": true,\n",
       "        \"inverse\": false,\n",
       "        \"splitNumber\": 5,\n",
       "        \"orient\": \"vertical\",\n",
       "        \"showLabel\": true,\n",
       "        \"itemWidth\": 20,\n",
       "        \"itemHeight\": 140,\n",
       "        \"borderWidth\": 0\n",
       "    }\n",
       "};\n",
       "                chart_410fca2b0abb4efa8d94764cefb6f309.setOption(option_410fca2b0abb4efa8d94764cefb6f309);\n",
       "        });\n",
       "    </script>\n"
      ],
      "text/plain": [
       "<pyecharts.render.display.HTML at 0x1d435052748>"
      ]
     },
     "execution_count": 43,
     "metadata": {},
     "output_type": "execute_result"
    }
   ],
   "source": [
    "from pyecharts.charts import Map\n",
    "from pyecharts import options as opts #初始化配置项\n",
    "m = Map(init_opts=opts.InitOpts(width='900px', height='800px'))\n",
    "m.add('',[list(z) for z in zip(cityname1, bd_count)],maptype='北京')\n",
    "m.set_global_opts(title_opts=opts.TitleOpts(title='北京各岗位需求量',pos_left=\"center\"),visualmap_opts=opts.VisualMapOpts(max_=610,min_=3))\n",
    "m.render('北京各区岗位需求量.html')\n",
    "m.render_notebook()"
   ]
  }
 ],
 "metadata": {
  "kernelspec": {
   "display_name": "Python 3",
   "language": "python",
   "name": "python3"
  },
  "language_info": {
   "codemirror_mode": {
    "name": "ipython",
    "version": 3
   },
   "file_extension": ".py",
   "mimetype": "text/x-python",
   "name": "python",
   "nbconvert_exporter": "python",
   "pygments_lexer": "ipython3",
   "version": "3.6.2"
  }
 },
 "nbformat": 4,
 "nbformat_minor": 2
}
